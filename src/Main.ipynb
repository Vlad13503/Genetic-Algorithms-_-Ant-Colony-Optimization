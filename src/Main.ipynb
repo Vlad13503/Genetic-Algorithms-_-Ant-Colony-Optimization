{
 "cells": [
  {
   "cell_type": "markdown",
   "metadata": {},
   "source": [
    "# CSE2530 Computational Intelligence\n",
    "## Assignment 2: Ant Colony Optimization and Genetic Algorithms"
   ]
  },
  {
   "cell_type": "markdown",
   "metadata": {},
   "source": [
    "<div style=\"background-color:#f1be3e\">\n",
    "\n",
    "_Fill in your group number **from Brightspace**, names, and student numbers._\n",
    "    \n",
    "|    Group   |           11          |\n",
    "|------------|----------------------|\n",
    "| Vlad Alexan  |        5773644       |\n",
    "| Andrei Ionita  |        5735327       |\n",
    "| Cosmin Andrei Vasilescu  |        5734975       |\n",
    "| Traian Dobrin  |        5749751       |"
   ]
  },
  {
   "cell_type": "markdown",
   "metadata": {},
   "source": [
    "#### Imports"
   ]
  },
  {
   "cell_type": "code",
   "execution_count": 21,
   "metadata": {
    "collapsed": true
   },
   "outputs": [],
   "source": [
    "\"\"\"\n",
    "You may only use numpy to implement your algorithms\n",
    "You can make use of any other libraries for miscellaneous functions, e.g. to create the visual aids.\n",
    "Put all of your imports in this code block.\n",
    "\"\"\"\n",
    "import numpy as np\n",
    "import random\n",
    "import sys\n",
    "import time\n",
    "\n",
    "\"\"\"\n",
    "The following classes are fully implemented in their own files and you should not change them.\n",
    "Nonetheless, we encourage you to check how they work; this will help you get started.\n",
    "\"\"\"\n",
    "from Coordinate import Coordinate\n",
    "from Direction import Direction\n",
    "from PathSpecification import PathSpecification\n",
    "from Route import Route\n",
    "from SurroundingPheromone import SurroundingPheromone\n",
    "from TSPData import TSPData\n",
    "\n",
    "\n",
    "import matplotlib.pyplot as plt"
   ]
  },
  {
   "cell_type": "markdown",
   "metadata": {},
   "source": [
    "## Part 1: The Travelling Robot Problem\n",
    "### 1.1 Problem Analysis\n",
    "#### Question 1:"
   ]
  },
  {
   "cell_type": "markdown",
   "metadata": {},
   "source": [
    "<div style=\"background-color:#f1be3e\">\n",
    "\n",
    "The Travelling Salesman Problem (TSP) is usually defined in the following way: given a list of cities and the length between each pair of cities, we are asked to find the shortest path that visits each city exactly once and returns to the city we started from [1]. This problem builds on the idea of a Hamiltonian cycle - a tour that visits every city exactly once [2]. However, as we are dealing with a complete (undirected) graph (we are given the distances between each pair of cities), there are (n-1)! Hamiltonian cycles - each corresponding to a permutation of the cities (counting reversed paths as well) [3]. TSP is about finding a minimum-weight such Hamiltonian cycle."
   ]
  },
  {
   "cell_type": "markdown",
   "metadata": {},
   "source": [
    "#### Question 2"
   ]
  },
  {
   "cell_type": "markdown",
   "metadata": {},
   "source": [
    "<div style=\"background-color:#f1be3e\">\n",
    "\n",
    "1. In the traveling salesman problem, we are asked to find a route that visits all cities, while in our problem, we might not need to visit each product in the supermarket. (???)\n",
    "2. In TSP, the route has to end in the start point, whereas in our problem we do not need to necessarily return in the same point - after all we want to minimize the total length of the route, so there is no point in going anywhere after gathering the last product.\n",
    "3. In TSP we can start in any city, whereas here we have a set starting and ending point.\n"
   ]
  },
  {
   "cell_type": "markdown",
   "metadata": {},
   "source": [
    "#### Question 3"
   ]
  },
  {
   "cell_type": "markdown",
   "metadata": {},
   "source": [
    "<div style=\"background-color:#f1be3e\">\n",
    "\n",
    "Since TSP is an NP-Hard problem, computational intelligence techniques are appropriate for approaching it since it directs us towards viable options faster instead of having to exploring the entire search space. \n",
    "\n",
    "Moreover, evolutionary computing in particular is used to tacke optimization problems, aiming to improve an objective function following a set of constraints. In our case, we can regard our objective function as (the inverse of) the total length of our route and the constraints being the maze, and with it, the corresponding distances between pairs of products, but also constraints on picking exactly one product from a given list. \n",
    "\n",
    "As flexbile optimization algorithms, computational intelligence techniques are also suitable when we are dealing with the non-linear objective function we have for TSP. Note also that we don't have to make many assumptions on our problem to come up with a genetic algorithm for it. (???)"
   ]
  },
  {
   "cell_type": "markdown",
   "metadata": {},
   "source": [
    "### 1.2 Genetic Algorithm"
   ]
  },
  {
   "cell_type": "code",
   "execution_count": 22,
   "metadata": {
    "collapsed": true
   },
   "outputs": [],
   "source": [
    "# TSP problem solver using genetic algorithms.\n",
    "\n",
    "class Chromosome:\n",
    "    def __init__(self, tsp_data, rng, no_products = 18):\n",
    "        self.rng = rng\n",
    "        self.genes = np.arange(no_products)\n",
    "        self.tsp_data = tsp_data\n",
    "        self.rng.shuffle(self.genes)\n",
    "        self.fitness = self.get_fitness()\n",
    "    \n",
    "    def get_fitness(self):\n",
    "        total_weight = 0\n",
    "        distances = self.tsp_data.get_distances()\n",
    "        for i in range(1, len(self.genes)):\n",
    "            prev_product = self.genes[i-1]\n",
    "            cur_product = self.genes[i]\n",
    "            total_weight += distances[prev_product][cur_product]\n",
    "        start_distances = self.tsp_data.get_start_distances()\n",
    "        end_distances = self.tsp_data.get_end_distances()\n",
    "        total_weight += start_distances[self.genes[0]]\n",
    "        total_weight += end_distances[self.genes[-1]]\n",
    "        return 1/total_weight\n",
    "    \n",
    "    def set_genes(self, genes):\n",
    "        self.genes = genes\n",
    "        self.fitness = self.get_fitness()\n",
    "        return self\n",
    "    \n",
    "    def get_path_length(self):\n",
    "        total_weight = 0\n",
    "        distances = self.tsp_data.get_distances()\n",
    "        for i in range(1, len(self.genes)):\n",
    "            prev_product = self.genes[i-1]\n",
    "            cur_product = self.genes[i]\n",
    "            total_weight += distances[prev_product][cur_product]\n",
    "        start_distances = self.tsp_data.get_start_distances()\n",
    "        end_distances = self.tsp_data.get_end_distances()\n",
    "        total_weight += start_distances[self.genes[0]]\n",
    "        total_weight += end_distances[self.genes[-1]]\n",
    "        return total_weight\n",
    "\n",
    "class GeneticAlgorithm:\n",
    "\n",
    "    \"\"\"\n",
    "    Constructs a new 'genetic algorithm' object.\n",
    "    @param generations: the amount of generations.\n",
    "    @param pop_size: the population size.\n",
    "    \"\"\"\n",
    "    def __init__(self, generations, pop_size, crossover_probability, mutation_probability, seed):\n",
    "        self.rng = np.random.RandomState(seed)\n",
    "        self.generations = generations\n",
    "        self.pop_size = pop_size\n",
    "        self.crossover_probability = crossover_probability\n",
    "        self.mutation_probability = mutation_probability\n",
    "    \"\"\"\n",
    "    This method should solve the TSP.\n",
    "    @param tsp_data: the data describing the problem.\n",
    "    @return the optimized product sequence.\n",
    "    \"\"\"\n",
    "    def solve_tsp(self, tsp_data):\n",
    "        \n",
    "        # display parameter info\n",
    "        print(\"Using a number of generations of \" + str(self.generations))\n",
    "        print(\"Using a population size of \" + str(self.pop_size))\n",
    "        print(\"Using a crossover probability of \" + str(self.crossover_probability))\n",
    "        print(\"Using a mutation probability of \" + str(self.mutation_probability))\n",
    "        \n",
    "        distances = tsp_data.get_distances()\n",
    "        \n",
    "        # 18 products -> use ids from 0 to 17\n",
    "        no_products = len(distances)\n",
    "        # randomly select initial population\n",
    "        population = []\n",
    "        for i in range(self.pop_size):\n",
    "            chromosome = Chromosome(tsp_data, self.rng)\n",
    "            population.append(chromosome)\n",
    "        \n",
    "        replication_ceil_1 = self.crossover_probability\n",
    "        replication_ceil_2 = self.mutation_probability + self.crossover_probability \n",
    "        \n",
    "        best_fitness = []\n",
    "        mean_fitness = []\n",
    "        \n",
    "        # evolve the population\n",
    "        for _ in range(self.generations):\n",
    "            new_generation = []\n",
    "\n",
    "            # keep elites\n",
    "            no_elites = int(self.pop_size * 0.1)\n",
    "            sorted_population = sorted(population, key = lambda x: -x.fitness)\n",
    "            best_fitness.append(sorted_population[0].fitness)\n",
    "            for i in range(no_elites):\n",
    "                new_generation.append(sorted_population[i])\n",
    "            \n",
    "            # produce offspring\n",
    "            total_fitness = 0\n",
    "            for chromosome in  population:\n",
    "                total_fitness += chromosome.fitness\n",
    "            cumulative_fitness_ratios = [population[0].fitness / total_fitness * 100]\n",
    "            for chromosome in  population[1:]:\n",
    "                cumulative_fitness_ratios.append(chromosome.fitness / total_fitness * 100 + cumulative_fitness_ratios[-1])\n",
    "            mean_fitness.append(total_fitness / self.pop_size)\n",
    "            \n",
    "            for _ in range(self.pop_size - no_elites):\n",
    "                parent1 = population[self.get_parent(cumulative_fitness_ratios)]\n",
    "                parent2 = population[self.get_parent(cumulative_fitness_ratios)]\n",
    "                \n",
    "                action = self.rng.rand()\n",
    "                if action <= replication_ceil_1:\n",
    "                    # crossover\n",
    "                    new_generation.append(self.crossover(parent1,parent2))\n",
    "                elif action <= replication_ceil_2:\n",
    "                    # mutation\n",
    "                    new_generation.append(self.mutate(self.crossover(parent1,parent2)))\n",
    "                else:\n",
    "                    #clone\n",
    "                    new_generation.append(parent1)\n",
    "            population = new_generation\n",
    "            \n",
    "        sorted_population = sorted(population, key = lambda x: -x.fitness)\n",
    "        solution = sorted_population[0]\n",
    "        \n",
    "        # plot best vs mean fitness per generation\n",
    "        plt.plot(range(self.generations), best_fitness, label='Best Fitness')\n",
    "        plt.plot(range(self.generations), mean_fitness, label='Mean Fitness') \n",
    "        plt.xlabel('Generation')\n",
    "        plt.ylabel('Fitness')\n",
    "        plt.title('Fitness over Generations')\n",
    "        plt.legend()\n",
    "        plt.show()\n",
    "        \n",
    "        print(\"Solution fitness: \" + str(solution.fitness))\n",
    "        print(\"Solution path length: \" + str(solution.get_path_length()))\n",
    "        print(\"Solution product sequence:\")\n",
    "        print(solution.genes)\n",
    "        print(\"\\n\\n\")\n",
    "        return solution.genes\n",
    "        \n",
    "        \n",
    "            \n",
    "    def get_parent(self, cumulative_fitness_ratios):\n",
    "        random_num = self.rng.rand() * 100\n",
    "        pos = np.searchsorted(cumulative_fitness_ratios, random_num, side='left')\n",
    "        return pos\n",
    "    \n",
    "    \n",
    "    def mutate(self, chromosome):\n",
    "        # create a copy of the original chromosome to avoid modifying it directly\n",
    "        mutated_chromosome_genes = chromosome.genes.copy()  \n",
    "        \n",
    "        if self.rng.rand() <= 0.5:\n",
    "            # inversion Mutation\n",
    "            start_index = self.rng.randint(0, len(mutated_chromosome_genes))\n",
    "            while(start_index >= len(mutated_chromosome_genes) - 1):\n",
    "                start_index = self.rng.randint(0, len(mutated_chromosome_genes))\n",
    "            end_index = self.rng.randint(start_index + 1, len(mutated_chromosome_genes))\n",
    "            mutated_chromosome_genes[start_index:end_index] = np.flip(mutated_chromosome_genes[start_index:end_index])\n",
    "        \n",
    "        else:\n",
    "            # insertion Mutation\n",
    "            gene_index = self.rng.randint(0, len(mutated_chromosome_genes))\n",
    "            removed_gene = mutated_chromosome_genes[gene_index]\n",
    "            new_position = self.rng.randint(0, len(mutated_chromosome_genes))\n",
    "            removed = np.delete(mutated_chromosome_genes,gene_index)\n",
    "            mutated_chromosome = np.insert(removed, new_position, removed_gene)\n",
    "        \n",
    "        return Chromosome(chromosome.tsp_data, self.rng).set_genes(mutated_chromosome_genes)\n",
    "    \n",
    "    def crossover(self, chromosome1, chromosome2):\n",
    "            genes1 = chromosome1.genes.copy()\n",
    "            genes2 = chromosome2.genes.copy()\n",
    "            crossover_point1 = self.rng.randint(0, len(genes1))\n",
    "            while(crossover_point1 >= len(genes1) - 1):\n",
    "                crossover_point1 = self.rng.randint(0, len(genes1))\n",
    "            crossover_point2 = self.rng.randint(crossover_point1 + 1, len(genes1))\n",
    "\n",
    "            offspring = []\n",
    "\n",
    "            offspring.extend(genes1[crossover_point1:crossover_point2])\n",
    "\n",
    "            index = crossover_point2\n",
    "            while len(offspring) < len(genes1):\n",
    "                if genes2[index] not in offspring:\n",
    "                    offspring.append(genes2[index])\n",
    "                # cycle to the beginning if reached the end\n",
    "                index = (index + 1) % len(genes2)\n",
    "            return Chromosome(chromosome1.tsp_data, self.rng).set_genes(offspring)"
   ]
  },
  {
   "cell_type": "markdown",
   "metadata": {},
   "source": [
    "#### Question 4"
   ]
  },
  {
   "cell_type": "markdown",
   "metadata": {},
   "source": [
    "<div style=\"background-color:#f1be3e\">\n",
    "\n",
    "Each gene will be the id (enumerated from 0) of a specific product from the supermarket. The chromosome will be a permutation of products which represents the order in which we go through them. Using permutations like this ensures that each chromosome represents a valid route that visits each product exactly once, which is a requirement of the TSP. The genetic algorithm will then evolve and improve these routes over successive generations to find a (near) optimal solution. \n",
    "\n",
    "To further make sure that no 2 products appear twice, extra care will be needed when performing cross-overs (for exploitation) and mutation (for exploration). "
   ]
  },
  {
   "cell_type": "markdown",
   "metadata": {},
   "source": [
    "#### Question 5"
   ]
  },
  {
   "cell_type": "markdown",
   "metadata": {},
   "source": [
    "<div style=\"background-color:#f1be3e\">\n",
    "\n",
    "We will consider the inverse of the total distance of the path from the start point to the end point as the fitness function. This formulation encourages the genetic algorithm to maximize fitness, effectively minimizing the tour length. It simplifies the fitness evaluation process and ensures that shorter tours receive higher fitness scores."
   ]
  },
  {
   "cell_type": "markdown",
   "metadata": {},
   "source": [
    "#### Question 6"
   ]
  },
  {
   "cell_type": "markdown",
   "metadata": {},
   "source": [
    "<div style=\"background-color:#f1be3e\">\n",
    "\n",
    "The fitness of each candidate will be calculated first. Then we will pick parents based on how fit they are. The probability of picking one candidate for being a parent once is equal to the ratio between its fitness value and the sum of all other candidates’ fitness values. The actual algorithm we are using is the Roulette Wheel Selection, where a random number between 0 and 1 is compared against the interval calculated for each candidate, via the cumulative fitness ratios of candidates up to it. Binary search is used for improved efficiency."
   ]
  },
  {
   "cell_type": "markdown",
   "metadata": {},
   "source": [
    "#### Question 7"
   ]
  },
  {
   "cell_type": "markdown",
   "metadata": {},
   "source": [
    "<div style=\"background-color:#f1be3e\">\n",
    "\n",
    "After selecting the chromosomes we will be using for reproduction, in order to produce offspring, they will undergo crossover and mutation, operations that form the basis of genetic algorithms. These reporduction actions work under 2 main assumptions, which we try to use in our algortihm:\n",
    "\n",
    "1.) **Exploitation** (Combining good solutions yields even better solutions)\n",
    "\n",
    "In this sense, we implement an order based crossover algorithm, where we try to preserve relative order of products from the two parents, P1 and P2 [4]. This works by selecting two random cross-over points. We then preserve the segments between the cut points, producing 1 new offsprings, O1 (with the copied genes from P1). To complete P1, we start looking in P2 from the second cut point. Ignoring added elements (and cycling to the beginning when we reach the end), we complete the chromosome of P2.\n",
    "\n",
    "2.) **Exploration** (Random changes in one good solution can lead to better solutions)\n",
    "\n",
    "For mutation, we are using two mutation strategies: inversion mutation (select a substring of genes at random and inverse it) and insertion mutation (select a gene at random from a chromosome, remove it from its place and insert it in a different random position).\n",
    "\n",
    "__________\n",
    "Both the crossover and mutation take place with some predefined probabilities, which can be fine tuned via hyper-parameters."
   ]
  },
  {
   "cell_type": "markdown",
   "metadata": {},
   "source": [
    "#### Question 8"
   ]
  },
  {
   "cell_type": "markdown",
   "metadata": {},
   "source": [
    "<div style=\"background-color:#f1be3e\">\n",
    "\n",
    "Due to the way we defined our fitness function, we will talk about the local maxima instead of the local minima. We will introduce variation in order to prevent getting stuck in local maxima. Even after doing the cross-overs, some individuals might still get mutated in order to get more variation and escape the local maxima. Moreover, by stochastically choosing the parents of new generations and not simply choosing the best performing parents (in terms of the fitness function), we are implementing a form of simulated annealing - a process by which we also additionally take \"steps\" in a seemingly wrong (local) \"direction\", in this way moving away from potential local maxima."
   ]
  },
  {
   "cell_type": "markdown",
   "metadata": {},
   "source": [
    "#### Question 9"
   ]
  },
  {
   "cell_type": "markdown",
   "metadata": {},
   "source": [
    "<div style=\"background-color:#f1be3e\">\n",
    "\n",
    "Elitism is a strategy used in evolutionary algorithms where the best solution or a few of the best, called the elites, in each generation, are inserted into the next, without undergoing any change. We have applied a variation of elitism since without it there is a risk that we could lose our best solutions so far. By preserving these solutions across generations we can also accelerate convergence towards an optimal solution.\n",
    "\n",
    "As such, we will guarantee that the 10% best population automatically gets passed to the next generation. The rest of the next population will be obtained from 2 parents obtained via the stochastic procedure described in question 6."
   ]
  },
  {
   "cell_type": "markdown",
   "metadata": {},
   "source": [
    "#### Question 10"
   ]
  },
  {
   "cell_type": "code",
   "execution_count": 23,
   "metadata": {},
   "outputs": [
    {
     "name": "stdout",
     "output_type": "stream",
     "text": [
      "Using a number of generations of 1000\n",
      "Using a population size of 50\n",
      "Using a crossover probability of 0.3\n",
      "Using a mutation probability of 0.1\n"
     ]
    },
    {
     "data": {
      "image/png": "[encoded data removed]",
      "text/plain": [
       "<Figure size 432x288 with 1 Axes>"
      ]
     },
     "metadata": {},
     "output_type": "display_data"
    },
    {
     "name": "stdout",
     "output_type": "stream",
     "text": [
      "Solution fitness: 0.0006958942240779402\n",
      "Solution path length: 1437\n",
      "Solution product sequence:\n",
      "[0, 1, 4, 6, 13, 15, 3, 11, 8, 7, 17, 9, 14, 12, 5, 10, 2, 16]\n",
      "\n",
      "\n",
      "\n"
     ]
    }
   ],
   "source": [
    "# Please keep your parameters for the Genetic Algorithm easily changeable here\n",
    "population_size = 50\n",
    "generations = 1000\n",
    "crossover_probability = 0.3\n",
    "mutation_probability = 0.1\n",
    "seed = 225200\n",
    "persist_file = \"./../data/optimal_tsp\"\n",
    "\n",
    "# Setup optimization\n",
    "tsp_data = TSPData.read_from_file(persist_file)\n",
    "\n",
    "ga = GeneticAlgorithm(generations, population_size, crossover_probability, mutation_probability, seed)\n",
    "\n",
    "# Run optimzation and write to file\n",
    "solution = ga.solve_tsp(tsp_data)\n",
    "tsp_data.write_action_file(solution, \"./../data/tsp_solution.txt\")"
   ]
  },
  {
   "cell_type": "markdown",
   "metadata": {},
   "source": [
    "<div style=\"background-color:#f1be3e\">\n",
    "\n",
    "We have applied our algorithm on our data with many variations of hyper-parameters (which can be seen below). Considering that, given enough generations, all algorithms converged to the same solution, we regard is as optimal, also from a visual inspection of the solution. We notice that the mean fitness moves closer to the best performing candidate as we decrease the crossover probability, while mutation is also essential in further exploring the space - with a lower mutation probability we need a higher generation count to get to the (assumed) optimal solution."
   ]
  },
  {
   "cell_type": "code",
   "execution_count": 24,
   "metadata": {},
   "outputs": [
    {
     "name": "stdout",
     "output_type": "stream",
     "text": [
      "Using a number of generations of 1000\n",
      "Using a population size of 20\n",
      "Using a crossover probability of 0.3\n",
      "Using a mutation probability of 0.1\n"
     ]
    },
    {
     "data": {
      "image/png": "[encoded data removed]",
      "text/plain": [
       "<Figure size 432x288 with 1 Axes>"
      ]
     },
     "metadata": {},
     "output_type": "display_data"
    },
    {
     "name": "stdout",
     "output_type": "stream",
     "text": [
      "Solution fitness: 0.00047596382674916705\n",
      "Solution path length: 2101\n",
      "Solution product sequence:\n",
      "[13, 4, 6, 1, 15, 3, 0, 8, 12, 17, 7, 14, 11, 9, 5, 10, 2, 16]\n",
      "\n",
      "\n",
      "\n",
      "Using a number of generations of 1000\n",
      "Using a population size of 50\n",
      "Using a crossover probability of 0.7\n",
      "Using a mutation probability of 0.1\n"
     ]
    },
    {
     "data": {
      "image/png": "[encoded data removed]",
      "text/plain": [
       "<Figure size 432x288 with 1 Axes>"
      ]
     },
     "metadata": {},
     "output_type": "display_data"
    },
    {
     "name": "stdout",
     "output_type": "stream",
     "text": [
      "Solution fitness: 0.0006635700066357001\n",
      "Solution path length: 1507\n",
      "Solution product sequence:\n",
      "[1, 0, 4, 13, 6, 3, 15, 8, 9, 14, 7, 17, 11, 12, 5, 10, 2, 16]\n",
      "\n",
      "\n",
      "\n",
      "Using a number of generations of 1000\n",
      "Using a population size of 50\n",
      "Using a crossover probability of 0.7\n",
      "Using a mutation probability of 0.01\n"
     ]
    },
    {
     "data": {
      "image/png": "[encoded data removed]",
      "text/plain": [
       "<Figure size 432x288 with 1 Axes>"
      ]
     },
     "metadata": {},
     "output_type": "display_data"
    },
    {
     "name": "stdout",
     "output_type": "stream",
     "text": [
      "Solution fitness: 0.0007107320540156361\n",
      "Solution path length: 1407\n",
      "Solution product sequence:\n",
      "[0, 1, 6, 4, 13, 3, 15, 8, 11, 14, 17, 7, 9, 12, 5, 10, 2, 16]\n",
      "\n",
      "\n",
      "\n",
      "Using a number of generations of 10000\n",
      "Using a population size of 50\n",
      "Using a crossover probability of 0.7\n",
      "Using a mutation probability of 0.01\n"
     ]
    },
    {
     "data": {
      "image/png": "[encoded data removed]",
      "text/plain": [
       "<Figure size 432x288 with 1 Axes>"
      ]
     },
     "metadata": {},
     "output_type": "display_data"
    },
    {
     "name": "stdout",
     "output_type": "stream",
     "text": [
      "Solution fitness: 0.0007547169811320754\n",
      "Solution path length: 1325\n",
      "Solution product sequence:\n",
      "[0, 1, 6, 4, 13, 15, 3, 8, 17, 7, 9, 14, 11, 12, 5, 10, 2, 16]\n",
      "\n",
      "\n",
      "\n"
     ]
    },
    {
     "data": {
      "text/plain": [
       "[0, 1, 6, 4, 13, 15, 3, 8, 17, 7, 9, 14, 11, 12, 5, 10, 2, 16]"
      ]
     },
     "execution_count": 24,
     "metadata": {},
     "output_type": "execute_result"
    }
   ],
   "source": [
    "GeneticAlgorithm(\n",
    "    generations = 1000, \n",
    "    pop_size = 20, \n",
    "    crossover_probability = 0.3, \n",
    "    mutation_probability = 0.1, \n",
    "    seed = 225200).solve_tsp(tsp_data)\n",
    "\n",
    "GeneticAlgorithm(\n",
    "    generations = 1000, \n",
    "    pop_size = 50, \n",
    "    crossover_probability = 0.7, \n",
    "    mutation_probability = 0.1, \n",
    "    seed = 225200).solve_tsp(tsp_data)\n",
    "\n",
    "GeneticAlgorithm(\n",
    "    generations = 1000, \n",
    "    pop_size = 50, \n",
    "    crossover_probability = 0.7, \n",
    "    mutation_probability = 0.01, \n",
    "    seed = 225200).solve_tsp(tsp_data)\n",
    "\n",
    "GeneticAlgorithm(\n",
    "    generations = 10000, \n",
    "    pop_size = 50, \n",
    "    crossover_probability = 0.7, \n",
    "    mutation_probability = 0.01, \n",
    "    seed = 225200).solve_tsp(tsp_data)"
   ]
  },
  {
   "cell_type": "markdown",
   "metadata": {},
   "source": [
    "## Part 2: Path Finding Through Ant Colony Optimization\n",
    "### 2.2 Observing the Problem"
   ]
  },
  {
   "cell_type": "markdown",
   "metadata": {},
   "source": [
    "#### Question 11"
   ]
  },
  {
   "cell_type": "markdown",
   "metadata": {},
   "source": [
    "<div style=\"background-color:#f1be3e\">\n",
    "\n",
    "The purpose of Ant Colony Optimization (ACO) is to efficiently solve optimization problems, particularly those related to combinatorial optimization. It is typically used when traditional optimization techniques struggle due to the large solution space or the complexity of the problem itself - with a particularity being that the set of feasible solutions is finite. This is particularly useful in routing - finding the optimal path between two points, since we have a finite but sensibly large number of possible routes, given a (finite) graph."
   ]
  },
  {
   "cell_type": "markdown",
   "metadata": {},
   "source": [
    "#### Question 12"
   ]
  },
  {
   "cell_type": "markdown",
   "metadata": {},
   "source": [
    "<div style=\"background-color:#f1be3e\">\n",
    "\n",
    "We can expect the following topographical features (exemplified via the provided hard maze): \n",
    "- Large “rooms” (e.g. the one containing products 11 and 14) where modelling the maze as a graph can get exponentially more difficult, since within such a room we have very large degrees of freedom when it comes to the choices we have to make in our directions (as opposed to when we are simply navigating hallways)\n",
    "- Long hallways or complex structures (\"rooms\" with one entry point and large area that lead to nowhere - e.g. upper right of product 14) that can prove to be dead ends, resulting in wasted computation time if explored inefficiently. Additional difficulty can arise if products are actually placed in such places (e.g. product 6), with the optimal strategy being that the robot partly backtracks before taking a different action\n",
    "- Paralell hallways (e.g. under product 15), where one could easily end up a looping for a while unless some form of memory is used. Loops in general can also prove to be a challenge, there being numerous topographical features which would generate them. A basic dfs would not end up halting its computation.\n",
    "- Other basic complicating features: twisting hallways, \"spikes\" coming out of hallways, “rooms” with scattered blocks\n"
   ]
  },
  {
   "cell_type": "markdown",
   "metadata": {},
   "source": [
    "#### Question 13"
   ]
  },
  {
   "cell_type": "markdown",
   "metadata": {},
   "source": [
    "<div style=\"background-color:#f1be3e\">\n",
    "\n",
    "$\\Delta\\tau^k_i=Q/L_i$ : The amount of pheromone left on the i-th link by ant k, where $Q$ is a predefined constant for all ants and $L_i$ is the length of the i-th link. \n",
    "\n",
    "$\\tau_i += \\sum_{k}\\Delta\\tau_i^k$ : On one such link the pheromone accumulates from all ants that pass over it.\n",
    "\n",
    "Dropping pheromone is a concept fundamental to the functionality of the ant colony optimization algorithm, as it acts as an indirect form of communication between the ants - future explorers will be more likely to follow paths with higher concentration of pheromones. The reason why such a strategy converges to a near-optimal solution is that more pheromone will be dropped on shorter path, so those are more likely to be favored."
   ]
  },
  {
   "cell_type": "markdown",
   "metadata": {},
   "source": [
    "#### Question 14"
   ]
  },
  {
   "cell_type": "markdown",
   "metadata": {},
   "source": [
    "<div style=\"background-color:#f1be3e\">\n",
    "\n",
    "$\\tau_{ij} = (1-\\rho) * \\tau_{ij}$, where $\\tau_{ij}$ is the amount of pheromone on edge $(i,j)$, dependent on $Q$ (the pheromone deposit constant) and $m$ (the amount of ants that pass over the link, stochastically proportional to the total number of ants), and $\\rho$ is the evaporation constant, which gives the proportion of pheromone that will evaporate after every iteration.\n",
    "\n",
    "In the standard approach, two potential issues that can appear - either many routes use a link which is in fact not part of an optimal, shorter tour, or when an ideal, short route contains a very lonk link, unlikely to be explored by the ants. Evaporation encourages exploration, as, without it, pheromone would continue to accumulate, making popular paths more popular, not necessarily due to their quality. By simulating the natural decay of pheromone over time, unexplored routes get higher chances of being explored than they would otherwise."
   ]
  },
  {
   "cell_type": "markdown",
   "metadata": {},
   "source": [
    "### 2.3 Implementing the Ant Algorithm"
   ]
  },
  {
   "cell_type": "code",
   "execution_count": 103,
   "metadata": {
    "collapsed": true
   },
   "outputs": [],
   "source": [
    "# Class that represents the basic Ant functionality\n",
    "class StandardAnt:\n",
    "\n",
    "    \"\"\"\n",
    "    Constructor of a StandardAnt taking a Maze and PathSpecification\n",
    "    @param maze: the Maze where the ant will try to find a route\n",
    "    @param path_specification: the PathSpecification consisting of a start and an end coordinate\n",
    "    \"\"\"\n",
    "    def __init__(self, maze, path_specification, no_iterations):\n",
    "        self.maze = maze\n",
    "        self.start = path_specification.get_start()\n",
    "        self.end = path_specification.get_end()\n",
    "        self.current_position = self.start\n",
    "        self.visited = []\n",
    "        self.rand = random\n",
    "        self.no_iterations=no_iterations\n",
    "\n",
    "    \"\"\"\n",
    "    Method that performs a single complete run through the maze by the ant\n",
    "    @return the route found by the ant\n",
    "    \"\"\"\n",
    "    def find_route(self):\n",
    "        dx = [1,-1,0,0]\n",
    "        dy = [0,0,-1,1]\n",
    "        route = Route(self.start)\n",
    "        for i in range(self.no_iterations):\n",
    "            self.visited.append(self.current_position)\n",
    "            if self.current_position==self.end:\n",
    "                break\n",
    "            pheromone = []\n",
    "            lst=[Direction.north,Direction.south,Direction.east,Direction.west]\n",
    "            for direction in range(4):\n",
    "                newCoord=Coordinate(self.current_position.x+dx[direction],self.current_position.y+dy[direction])\n",
    "                if newCoord not in self.visited:\n",
    "                    pheromone.append(maze.get_pheromone(newCoord))\n",
    "                else:\n",
    "                    pheromone.append(0)\n",
    "            pheromone=np.array(pheromone)\n",
    "            if np.sum(pheromone)==0:\n",
    "                break\n",
    "            choice=np.random.choice(lst,1,p=pheromone/np.sum(pheromone))[0]\n",
    "            direction=Direction.dir_to_int(choice)\n",
    "            self.current_position=Coordinate(self.current_position.x+dx[direction],self.current_position.y+dy[direction])\n",
    "            route.add(self.current_position)\n",
    "        return route\n"
   ]
  },
  {
   "cell_type": "code",
   "execution_count": 100,
   "metadata": {
    "collapsed": true
   },
   "outputs": [],
   "source": [
    "# Class that holds all of the maze data.\n",
    "# This includes the pheromones, the open and blocked tiles in the system,\n",
    "# and the starting and end coordinates for the ants.\n",
    "class Maze:\n",
    "\n",
    "    \"\"\"\n",
    "    Constructor of a Maze\n",
    "    @param walls: array of ints representing the accessible (1) and inaccessible (0) tiles\n",
    "    @param width: the width (horizontal dimension) of the Maze\n",
    "    @param length: the length (vertical dimension) of the Maze\n",
    "    \"\"\"\n",
    "    def __init__(self, walls, width, length):\n",
    "        self.walls = walls\n",
    "        self.length = length\n",
    "        self.width = width\n",
    "        self.start = None\n",
    "        self.end = None\n",
    "        self.pheromones=np.zeros((self.width,self.length))\n",
    "        self.initialize_pheromones()\n",
    "\n",
    "    \"\"\"\n",
    "    Initialize pheromones on all tiles of the Maze\n",
    "    \"\"\"\n",
    "    def initialize_pheromones(self):\n",
    "        num_ones = 0 \n",
    "        for i in range(self.length):\n",
    "            for j in range(self.width):\n",
    "                num_ones+=self.walls[j][i]!=0\n",
    "                \n",
    "        for j in range(self.length):\n",
    "            for i in range(self.width):\n",
    "                if self.walls[i][j]==0:\n",
    "                    self.pheromones[i][j]=0\n",
    "                else:\n",
    "                    self.pheromones[i][j]=1/num_ones\n",
    "\n",
    "    \"\"\"\n",
    "    Reset the Maze for a new shortest path problem\n",
    "    \"\"\"\n",
    "    def reset(self):\n",
    "        self.initialize_pheromones()\n",
    "\n",
    "    \"\"\"\n",
    "    Update the pheromones along a certain route according to a certain Q\n",
    "    @param route: the route taken by an ant\n",
    "    @param q: the normalization factor for the amount of dropped pheromone\n",
    "    \"\"\"\n",
    "    def add_pheromone_route(self, route, q):\n",
    "        l=route.size()\n",
    "        for x in route.get_route():\n",
    "            self.pheromones[x.x][x.y] += q/l\n",
    "\n",
    "    \"\"\"\n",
    "    Update pheromones for a list of routes\n",
    "    @param routes: a list of routes taken by the ants\n",
    "    @param q: the normalization factor for the amount of dropped pheromone\n",
    "    \"\"\"\n",
    "    def add_pheromone_routes(self, routes, q):\n",
    "        for r in routes:\n",
    "            self.add_pheromone_route(r, q)\n",
    "\n",
    "    \"\"\"\n",
    "    Evaporate pheromone\n",
    "    @param rho: the evaporation factor\n",
    "    \"\"\"\n",
    "    def evaporate(self, rho):\n",
    "        for j in range(self.length):\n",
    "            for i in range(self.width):\n",
    "                if self.walls[i][j]==0:\n",
    "                    self.pheromones[i][j]=0\n",
    "                else:\n",
    "                    self.pheromones[i][j]=rho*self.pheromones[i][j]\n",
    "\n",
    "    \"\"\"\n",
    "    Getter for the width of the maze\n",
    "    @return the width of the maze\n",
    "    \"\"\"\n",
    "    def get_width(self):\n",
    "        return self.width\n",
    "\n",
    "    \"\"\"\n",
    "    Getter for the length of the maze\n",
    "    @return the length of the maze\n",
    "    \"\"\"\n",
    "    def get_length(self):\n",
    "        return self.length\n",
    "\n",
    "    \"\"\"\n",
    "    Returns a the amount of pheromones on the neighbouring positions (N/S/E/W)\n",
    "    @param position: the coordinate where we need to check the surrounding pheromones\n",
    "    @return the pheromones on the neighbouring coordinates.\n",
    "    \"\"\"\n",
    "    def get_surrounding_pheromone(self, position):\n",
    "        dx = [1,-1,0,0]\n",
    "        dy = [0,0,-1,1]\n",
    "        ans = []\n",
    "        for direction in range(4):\n",
    "            newPos=Coordinate(pos.x+dx[direction],pos.y+dy[direction])\n",
    "            ans.append(self.get_pheromone(newPos))\n",
    "        return ans\n",
    "\n",
    "    \"\"\"\n",
    "    Getter for the pheromones on a specific coordinate.\n",
    "    If the position is not in bounds returns 0\n",
    "    @param pos: coordinate for the poition of interest\n",
    "    @return the amount of pheromone at the specified poition\n",
    "    \"\"\"\n",
    "    def get_pheromone(self, pos):\n",
    "        if self.in_bounds(pos) is False:\n",
    "            return 0\n",
    "        return self.pheromones[pos.x][pos.y]\n",
    "            \n",
    "\n",
    "    \"\"\"\n",
    "    Check whether a coordinate lies in the bounds of the current maze\n",
    "    @param position: the position that we need to check\n",
    "    @return true if the coordinate lies within the current maze\n",
    "    \"\"\"\n",
    "    def in_bounds(self, position):\n",
    "        return position.x_between(0, self.width) and position.y_between(0, self.length)\n",
    "\n",
    "    \"\"\"\n",
    "    Representation of Maze as defined by the input file format.\n",
    "    @return the human-readable representation of a maze\n",
    "    \"\"\"\n",
    "    def __str__(self):\n",
    "        string = \"\"\n",
    "        string += str(self.width)\n",
    "        string += \" \"\n",
    "        string += str(self.length)\n",
    "        string += \" \\n\"\n",
    "        for y in range(self.length):\n",
    "            for x in range(self.width):\n",
    "                string += str(self.walls[x][y])\n",
    "                string += \" \"\n",
    "            string += \"\\n\"\n",
    "        return string\n",
    "\n",
    "    \"\"\"\n",
    "    Method that builds a maze from a file\n",
    "    @param file_path: path to the file which stores the maze\n",
    "    @return a maze object with pheromones initialized to 0s on inaccessible and 1s on accessible tiles\n",
    "    \"\"\"\n",
    "    @staticmethod\n",
    "    def create_maze(file_path):\n",
    "        try:\n",
    "            f = open(file_path, \"r\")\n",
    "            lines = f.read().splitlines()\n",
    "            dimensions = lines[0].split(\" \")\n",
    "            width = int(dimensions[0])\n",
    "            length = int(dimensions[1])\n",
    "            \n",
    "            #make the maze_layout\n",
    "            maze_layout = []\n",
    "            for x in range(width):\n",
    "                maze_layout.append([])\n",
    "            \n",
    "            for y in range(length):\n",
    "                line = lines[y+1].split(\" \")\n",
    "                for x in range(width):\n",
    "                    if line[x] != \"\":\n",
    "                        state = int(line[x])\n",
    "                        maze_layout[x].append(state)\n",
    "            print(\"Ready reading maze file \" + file_path)\n",
    "            return Maze(maze_layout, width, length)\n",
    "        except FileNotFoundError:\n",
    "            print(\"Error reading maze file \" + file_path)"
   ]
  },
  {
   "cell_type": "code",
   "execution_count": 130,
   "metadata": {
    "collapsed": true
   },
   "outputs": [],
   "source": [
    "# Class representing the complete ACO algorithm.\n",
    "# Finds shortest path between two points in a maze according to a path specification.\n",
    "class AntColonyOptimization:\n",
    "\n",
    "    \"\"\"\n",
    "    Constructs a new optimization object using the ant algorithm\n",
    "    @param maze: the maze (environment) for ants\n",
    "    @param ants_per_gen: the number of ants per generation (between update of pheromones)\n",
    "    @param generations: the total number of generations of ants (pheromone updates)\n",
    "    @param q: the normalization factor for the amount of dropped pheromone\n",
    "    @param evaporation: the evaporation factor for the pheromones\n",
    "    \"\"\"\n",
    "    def __init__(self, maze, ants_per_gen, generations, q, evaporation):\n",
    "        self.maze = maze\n",
    "        self.ants_per_gen = ants_per_gen\n",
    "        self.generations = generations\n",
    "        self.q = q\n",
    "        self.evaporation = evaporation\n",
    "\n",
    "    \"\"\"\n",
    "    Loop that starts the shortest path process\n",
    "    @param path_specification: description of the route we wish to optimize\n",
    "    @return the optimized route according to the ACO algorithm\n",
    "    \"\"\"\n",
    "    def find_shortest_route(self, path_specification):\n",
    "        self.maze.reset()\n",
    "        shortest_route=-1\n",
    "        found=0\n",
    "        for generation in range(self.generations):\n",
    "            routes = []\n",
    "            for ants in range(self.ants_per_gen):\n",
    "                ant=StandardAnt(self.maze,path_specification,1000)\n",
    "                routee=ant.find_route()\n",
    "                \n",
    "                route=routee.get_route()\n",
    "                if route[len(route)-1]==path_specification.get_end():\n",
    "                    routes.append(routee)\n",
    "            for x in routes:\n",
    "                if found==0:\n",
    "                    shortest_route=x\n",
    "                    found=1\n",
    "                else:\n",
    "                    if x.shorter_than(shortest_route):\n",
    "                        shortest_route=x\n",
    "            self.maze.add_pheromone_routes(routes,self.q)\n",
    "        return shortest_route\n",
    "            "
   ]
  },
  {
   "cell_type": "code",
   "execution_count": 131,
   "metadata": {},
   "outputs": [
    {
     "name": "stdout",
     "output_type": "stream",
     "text": [
      "Ready reading maze file ./../data/easy_maze.txt\n",
      "Time taken: 0.01\n"
     ]
    },
    {
     "ename": "AttributeError",
     "evalue": "'int' object has no attribute 'size'",
     "output_type": "error",
     "traceback": [
      "\u001b[0;31m---------------------------------------------------------------------------\u001b[0m",
      "\u001b[0;31mAttributeError\u001b[0m                            Traceback (most recent call last)",
      "\u001b[0;32m<ipython-input-131-f9f066a3fe8f>\u001b[0m in \u001b[0;36m<module>\u001b[0;34m()\u001b[0m\n\u001b[1;32m     14\u001b[0m \u001b[0;34m\u001b[0m\u001b[0m\n\u001b[1;32m     15\u001b[0m \u001b[0mprint\u001b[0m\u001b[0;34m(\u001b[0m\u001b[0;34m\"Time taken: \"\u001b[0m \u001b[0;34m+\u001b[0m \u001b[0mstr\u001b[0m\u001b[0;34m(\u001b[0m\u001b[0;34m(\u001b[0m\u001b[0mint\u001b[0m\u001b[0;34m(\u001b[0m\u001b[0mround\u001b[0m\u001b[0;34m(\u001b[0m\u001b[0mtime\u001b[0m\u001b[0;34m.\u001b[0m\u001b[0mtime\u001b[0m\u001b[0;34m(\u001b[0m\u001b[0;34m)\u001b[0m \u001b[0;34m*\u001b[0m \u001b[0;36m1000\u001b[0m\u001b[0;34m)\u001b[0m\u001b[0;34m)\u001b[0m \u001b[0;34m-\u001b[0m \u001b[0mstart_time\u001b[0m\u001b[0;34m)\u001b[0m \u001b[0;34m/\u001b[0m \u001b[0;36m1000.0\u001b[0m\u001b[0;34m)\u001b[0m\u001b[0;34m)\u001b[0m\u001b[0;34m\u001b[0m\u001b[0m\n\u001b[0;32m---> 16\u001b[0;31m \u001b[0mprint\u001b[0m\u001b[0;34m(\u001b[0m\u001b[0;34m\"Route size: \"\u001b[0m \u001b[0;34m+\u001b[0m \u001b[0mstr\u001b[0m\u001b[0;34m(\u001b[0m\u001b[0mshortest_route\u001b[0m\u001b[0;34m.\u001b[0m\u001b[0msize\u001b[0m\u001b[0;34m(\u001b[0m\u001b[0;34m)\u001b[0m\u001b[0;34m)\u001b[0m\u001b[0;34m)\u001b[0m\u001b[0;34m\u001b[0m\u001b[0m\n\u001b[0m\u001b[1;32m     17\u001b[0m \u001b[0;34m\u001b[0m\u001b[0m\n\u001b[1;32m     18\u001b[0m \u001b[0mshortest_route\u001b[0m\u001b[0;34m.\u001b[0m\u001b[0mwrite_to_file\u001b[0m\u001b[0;34m(\u001b[0m\u001b[0;34m\"./../data/easy_solution.txt\"\u001b[0m\u001b[0;34m)\u001b[0m\u001b[0;34m\u001b[0m\u001b[0m\n",
      "\u001b[0;31mAttributeError\u001b[0m: 'int' object has no attribute 'size'"
     ]
    }
   ],
   "source": [
    "# Please keep your parameters for the ACO easily changeable here\n",
    "gen = 1\n",
    "no_gen = 100\n",
    "q = 1600\n",
    "evap = 0.1\n",
    "\n",
    "# Construct the optimization objects\n",
    "maze = Maze.create_maze(\"./../data/easy_maze.txt\")\n",
    "spec = PathSpecification.read_coordinates(\"./../data/easy_coordinates.txt\")\n",
    "aco = AntColonyOptimization(maze, gen, no_gen, q, evap)\n",
    "\n",
    "start_time = int(round(time.time() * 1000))\n",
    "shortest_route = aco.find_shortest_route(spec)\n",
    "\n",
    "print(\"Time taken: \" + str((int(round(time.time() * 1000)) - start_time) / 1000.0))\n",
    "print(\"Route size: \" + str(shortest_route.size()))\n",
    "\n",
    "shortest_route.write_to_file(\"./../data/easy_solution.txt\")"
   ]
  },
  {
   "cell_type": "markdown",
   "metadata": {},
   "source": [
    "### 2.4 Upgrading Your Ants with Intelligence"
   ]
  },
  {
   "cell_type": "markdown",
   "metadata": {},
   "source": [
    "#### Question 15"
   ]
  },
  {
   "cell_type": "code",
   "execution_count": null,
   "metadata": {
    "collapsed": true
   },
   "outputs": [],
   "source": [
    "# Class that represents the intelligent Ant\n",
    "class IntelligentAnt:\n",
    "\n",
    "    \"\"\"\n",
    "    Constructor of an IntelligentAnt taking a Maze and PathSpecification\n",
    "    @param maze: the Maze where the ant will try to find a route\n",
    "    @param path_specification: the PathSpecification consisting of a start and an end coordinate\n",
    "    \"\"\"\n",
    "    def __init__(self, maze, path_specification):\n",
    "        self.maze = maze\n",
    "        self.start = path_specification.get_start()\n",
    "        self.end = path_specification.get_end()\n",
    "        self.current_position = self.start\n",
    "        self.rand = random\n",
    "\n",
    "    \"\"\"\n",
    "    Method that performs a single complete run through the maze by the ant\n",
    "    @return the route found by the ant\n",
    "    \"\"\"\n",
    "    def find_route(self):\n",
    "        route = Route(self.start)\n",
    "        pass\n"
   ]
  },
  {
   "cell_type": "markdown",
   "metadata": {},
   "source": [
    "<div style=\"background-color:#f1be3e\">\n",
    "\n",
    "_Put your extra code blocks above (if any) and write your answer here._"
   ]
  },
  {
   "cell_type": "markdown",
   "metadata": {},
   "source": [
    "### 2.5 Parameter Optimization"
   ]
  },
  {
   "cell_type": "markdown",
   "metadata": {},
   "source": [
    "#### Question 16"
   ]
  },
  {
   "cell_type": "code",
   "execution_count": null,
   "metadata": {
    "collapsed": true
   },
   "outputs": [],
   "source": []
  },
  {
   "cell_type": "markdown",
   "metadata": {},
   "source": [
    "<div style=\"background-color:#f1be3e\">\n",
    "\n",
    "_Put your code blocks above (if any) and write your answer here._"
   ]
  },
  {
   "cell_type": "markdown",
   "metadata": {},
   "source": [
    "#### Question 17"
   ]
  },
  {
   "cell_type": "code",
   "execution_count": null,
   "metadata": {
    "collapsed": true
   },
   "outputs": [],
   "source": []
  },
  {
   "cell_type": "markdown",
   "metadata": {},
   "source": [
    "<div style=\"background-color:#f1be3e\">\n",
    "\n",
    "_Put your code blocks above (if any) and write your answer here._"
   ]
  },
  {
   "cell_type": "markdown",
   "metadata": {},
   "source": [
    "### 2.6 The Final Route"
   ]
  },
  {
   "cell_type": "markdown",
   "metadata": {},
   "source": [
    "#### Question 18"
   ]
  },
  {
   "cell_type": "code",
   "execution_count": null,
   "metadata": {
    "collapsed": true
   },
   "outputs": [],
   "source": []
  },
  {
   "cell_type": "markdown",
   "metadata": {},
   "source": [
    "<div style=\"background-color:#f1be3e\">\n",
    "\n",
    "_Put your code blocks above (if any) and write your answer here._"
   ]
  },
  {
   "cell_type": "markdown",
   "metadata": {},
   "source": [
    "### 2.7 Synthesis"
   ]
  },
  {
   "cell_type": "markdown",
   "metadata": {},
   "source": [
    "#### Question 19"
   ]
  },
  {
   "cell_type": "code",
   "execution_count": null,
   "metadata": {
    "collapsed": true
   },
   "outputs": [],
   "source": [
    "# Please keep your parameters for the synthesis part easily changeable here\n",
    "gen = 1\n",
    "no_gen = 1\n",
    "q = 1000\n",
    "evap = 0.1\n",
    "\n",
    "persist_file = \"./../tmp/my_tsp\"\n",
    "tsp_path = \"./../data/tsp_products.txt\"\n",
    "coordinates = \"./../data/hard_coordinates.txt\"\n",
    "\n",
    "# Construct optimization\n",
    "maze = Maze.create_maze(\"./../data/hard_maze.txt\")\n",
    "tsp_data = TSPData.read_specification(coordinates, tsp_path)\n",
    "aco = AntColonyOptimization(maze, gen, no_gen, q, evap)\n",
    "\n",
    "# Run optimization and write to file\n",
    "tsp_data.calculate_routes(aco)\n",
    "tsp_data.write_to_file(persist_file)\n",
    "\n",
    "# Read from file and print\n",
    "tsp_data2 = TSPData.read_from_file(persist_file)\n",
    "print(tsp_data == tsp_data2)\n",
    "\n",
    "# Solve TSP using your own paths file\n",
    "ga = GeneticAlgorithm(generations, population_size)\n",
    "solution = ga.solve_tsp(tsp_data2)\n",
    "tsp_data2.write_action_file(solution, \"./../data/tsp_solution.txt\")"
   ]
  },
  {
   "cell_type": "markdown",
   "metadata": {},
   "source": [
    "<div style=\"background-color:#f1be3e\">\n",
    "\n",
    "_Put your extra code blocks above (if any) and write your answer here._"
   ]
  },
  {
   "cell_type": "markdown",
   "metadata": {},
   "source": [
    "## Part 3: Open Questions\n",
    "### 3.1 Reflection"
   ]
  },
  {
   "cell_type": "markdown",
   "metadata": {},
   "source": [
    "#### Question 20"
   ]
  },
  {
   "cell_type": "markdown",
   "metadata": {},
   "source": [
    "<div style=\"background-color:#f1be3e\">\n",
    "\n",
    "_Write your answer here._"
   ]
  },
  {
   "cell_type": "markdown",
   "metadata": {},
   "source": [
    "#### Question 21"
   ]
  },
  {
   "cell_type": "markdown",
   "metadata": {},
   "source": [
    "<div style=\"background-color:#f1be3e\">\n",
    "\n",
    "_Write your answer here._"
   ]
  },
  {
   "cell_type": "markdown",
   "metadata": {},
   "source": [
    "### 3.2 Pen and Paper"
   ]
  },
  {
   "cell_type": "markdown",
   "metadata": {},
   "source": [
    "#### Question 22"
   ]
  },
  {
   "cell_type": "markdown",
   "metadata": {},
   "source": [
    "<div style=\"background-color:#f1be3e\">\n",
    "\n",
    "_Write your answer here. You can also choose to simply include a photo of your solution._"
   ]
  },
  {
   "cell_type": "markdown",
   "metadata": {},
   "source": [
    "#### Question 23"
   ]
  },
  {
   "cell_type": "markdown",
   "metadata": {},
   "source": [
    "<div style=\"background-color:#f1be3e\">\n",
    "\n",
    "_Write your answer here. You can also choose to simply include a photo of your solution._"
   ]
  },
  {
   "cell_type": "markdown",
   "metadata": {},
   "source": [
    "### 3.3 Division of Work"
   ]
  },
  {
   "cell_type": "markdown",
   "metadata": {},
   "source": [
    "#### Question 24"
   ]
  },
  {
   "cell_type": "markdown",
   "metadata": {},
   "source": [
    "<div style=\"background-color:#f1be3e\">\n",
    "\n",
    "\n",
    "|          Component          |  Name A   |  Name B   |  Name C   |  Name D   |\n",
    "|-----------------------------|-----------|-----------|-----------|-----------|\n",
    "| Code (design)               |     A     |     B     |     C     |     D     |\n",
    "| Code (implementation)       |     A     |     B     |     C     |     D     |\n",
    "| Code (validation)           |     A     |     B     |     C     |     D     |\n",
    "| Experiments (execution)     |     A     |     B     |     C     |     D     |\n",
    "| Experiments (analysis)      |     A     |     B     |     C     |     D     |\n",
    "| Experiments (visualization) |     A     |     B     |     C     |     D     |\n",
    "| Report (original draft)     |     A     |     B     |     C     |     D     |\n",
    "| Report (reviewing, editing) |     A     |     B     |     C     |     D     |"
   ]
  },
  {
   "cell_type": "markdown",
   "metadata": {},
   "source": [
    "### References"
   ]
  },
  {
   "cell_type": "markdown",
   "metadata": {},
   "source": [
    "<div style=\"background-color:#f1be3e\">\n",
    "\n",
    "[1]https://en.wikipedia.org/wiki/Travelling_salesman_problem\n",
    "[2]https://www.geeksforgeeks.org/travelling-salesman-problem-using-dynamic-programming/\n",
    "[3]https://proofwiki.org/wiki/Number_of_Hamilton_Cycles_in_Complete_Graph\n",
    "[4]https://www.redalyc.org/pdf/2652/265219618002.pdf, 3.1"
   ]
  },
  {
   "cell_type": "code",
   "execution_count": null,
   "metadata": {
    "collapsed": true
   },
   "outputs": [],
   "source": []
  }
 ],
 "metadata": {
  "kernelspec": {
   "display_name": "Python 3 (ipykernel)",
   "language": "python",
   "name": "python3"
  },
  "language_info": {
   "codemirror_mode": {
    "name": "ipython",
    "version": 3
   },
   "file_extension": ".py",
   "mimetype": "text/x-python",
   "name": "python",
   "nbconvert_exporter": "python",
   "pygments_lexer": "ipython3",
   "version": "3.5.2"
  }
 },
 "nbformat": 4,
 "nbformat_minor": 2
}
